{
 "cells": [
  {
   "cell_type": "code",
   "execution_count": 1,
   "metadata": {},
   "outputs": [],
   "source": [
    "import numpy as np\n",
    "import matplotlib.pyplot as plt\n"
   ]
  },
  {
   "cell_type": "code",
   "execution_count": 3,
   "metadata": {},
   "outputs": [
    {
     "data": {
      "text/plain": [
       "0.8552836251810545"
      ]
     },
     "execution_count": 3,
     "metadata": {},
     "output_type": "execute_result"
    }
   ],
   "source": [
    "np.random.randn()"
   ]
  },
  {
   "cell_type": "code",
   "execution_count": 17,
   "metadata": {},
   "outputs": [
    {
     "data": {
      "text/plain": [
       "array([0.7445522 , 2.02946891, 2.95377788, 1.09433446, 5.78920582,\n",
       "       0.17061904, 0.61865849, 0.31681384, 2.10138561, 0.12388804])"
      ]
     },
     "execution_count": 17,
     "metadata": {},
     "output_type": "execute_result"
    }
   ],
   "source": [
    "np.random.chisquare(2,10)"
   ]
  },
  {
   "cell_type": "code",
   "execution_count": 14,
   "metadata": {},
   "outputs": [
    {
     "data": {
      "text/plain": [
       "[<matplotlib.lines.Line2D at 0x7f12ce1f0670>]"
      ]
     },
     "execution_count": 14,
     "metadata": {},
     "output_type": "execute_result"
    },
    {
     "data": {
      "image/png": "[encoded data removed]",
      "text/plain": [
       "<Figure size 432x288 with 1 Axes>"
      ]
     },
     "metadata": {
      "needs_background": "light"
     },
     "output_type": "display_data"
    }
   ],
   "source": [
    "Amps = np.random.chisquare(1000)\n",
    "plt.figure()\n",
    "plt.plot(Amps,'o',alpha=0.5)"
   ]
  },
  {
   "cell_type": "code",
   "execution_count": 23,
   "metadata": {},
   "outputs": [
    {
     "data": {
      "image/png": "[encoded data removed]",
      "text/plain": [
       "<Figure size 432x288 with 1 Axes>"
      ]
     },
     "metadata": {
      "needs_background": "light"
     },
     "output_type": "display_data"
    }
   ],
   "source": [
    "\n",
    "\n",
    "from scipy.stats import chi\n",
    "\n",
    "Amps = chi.rvs(2, size=100000)#np.linspace(0,6,10000)\n",
    "time = np.linspace(0,10,1000)\n",
    "\n",
    "time = np.array([2])\n",
    "\n",
    "yend = []\n",
    "\n",
    "from scipy.stats import chi\n",
    "\n",
    "\n",
    "\n",
    "#plt.figure()\n",
    "for A in Amps:\n",
    "    yVec = A*np.sin(2*np.pi*100*time+ np.random.randn()*10)\n",
    "    yend.append(yVec[-1])\n",
    "    #plt.plot(time,yVec,alpha=0.2,color='C0')\n",
    "\n",
    "\n",
    "plt.figure()\n",
    "plt.hist(yend,bins=100);"
   ]
  }
 ],
 "metadata": {
  "kernelspec": {
   "display_name": "Python 3.9.5",
   "language": "python",
   "name": "python3"
  },
  "language_info": {
   "codemirror_mode": {
    "name": "ipython",
    "version": 3
   },
   "file_extension": ".py",
   "mimetype": "text/x-python",
   "name": "python",
   "nbconvert_exporter": "python",
   "pygments_lexer": "ipython3",
   "version": "3.9.5"
  },
  "orig_nbformat": 4,
  "vscode": {
   "interpreter": {
    "hash": "403ef3b8c9293a8e87657562140a1a8a3ffb62b836513d091cdd3206517b9b77"
   }
  }
 },
 "nbformat": 4,
 "nbformat_minor": 2
}
