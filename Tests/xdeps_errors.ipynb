{
 "cells": [
  {
   "cell_type": "code",
   "execution_count": 1,
   "metadata": {},
   "outputs": [],
   "source": [
    "import os\n",
    "\n",
    "\n",
    "\n",
    "cwd = os.getcwd()\n",
    "os.chdir('../Executables/py_BB/xdeps/examples/mad')\n",
    "\n",
    "#=========================================\n",
    "# EXAMPPLE\n",
    "\n",
    "\n",
    "\n",
    "# copyright ############################### #\n",
    "# This file is part of the Xdeps Package.   #\n",
    "# Copyright (c) CERN, 2021.                 #\n",
    "# ######################################### #\n",
    "\n",
    "import time\n",
    "\n",
    "from cpymad.madx import Madx\n",
    "mad=Madx(stdout=False)\n",
    "mad.call(\"lhc.seq\")\n",
    "mad.call(\"optics.madx\")\n",
    "\n",
    "import xdeps.madxutils\n",
    "\n",
    "m=xdeps.madxutils.MadxEnv(mad)\n",
    "\n",
    "m.v.on_x1 #160.0\n",
    "m.e['mcbcv.5r1.b2']['kick'] #1.639653535504e-05\n",
    "m.v.on_x1+=1 # update and propagates\n",
    "m.e['mcbcv.5r1.b2']['kick'] # 1.6499013701009e-05\n",
    "m.madexpr('on_x1=myonx1*2')\n",
    "m.v.myonx1=10\n",
    "m.v.on_x1 # 20\n",
    "m.e['mcbcv.5r1.b2']['kick'] # 2.0495669193799995e-06\n",
    "#=======================================================\n",
    "\n",
    "\n",
    "\n",
    "os.chdir(cwd)\n"
   ]
  },
  {
   "cell_type": "code",
   "execution_count": 27,
   "metadata": {},
   "outputs": [],
   "source": [
    "m.v['on_x14']\n",
    "m.v.on_x1+=1"
   ]
  },
  {
   "cell_type": "code",
   "execution_count": 49,
   "metadata": {},
   "outputs": [
    {
     "name": "stdout",
     "output_type": "stream",
     "text": [
      "2.3570019572869996e-06\n",
      "2.4594803032559993e-06\n"
     ]
    }
   ],
   "source": [
    "m.v.on_x1 +=1\n",
    "print(m.e['mcbcv.5r1.b2']['kick'])\n",
    "m.v.on_x1 +=1\n",
    "print(m.e['mcbcv.5r1.b2']['kick'])"
   ]
  },
  {
   "cell_type": "code",
   "execution_count": 58,
   "metadata": {},
   "outputs": [
    {
     "data": {
      "text/plain": [
       "{'at': 193.448,\n",
       " 'l': 0.904,\n",
       " 'kmax': 2.33,\n",
       " 'kmin': -2.33,\n",
       " 'calib': 0.029125,\n",
       " 'polarity': 1.0,\n",
       " 'tilt': 0.0,\n",
       " 'lrad': 0.0,\n",
       " 'kick': 2.4594803032559993e-06,\n",
       " 'vkick': 0.0,\n",
       " 'cvkick': 0.0,\n",
       " 'cvflag': 1,\n",
       " 'magnet': 1,\n",
       " 'slice': 1,\n",
       " 'sinkick': 0,\n",
       " 'sinpeak': 0.0,\n",
       " 'sintune': 0.0,\n",
       " 'sinphase': 0.0,\n",
       " 'from': 'ip1',\n",
       " 'type': '',\n",
       " 'apertype': 'circle',\n",
       " 'aperture': [0.0],\n",
       " 'aper_offset': [0.0],\n",
       " 'aper_tol': [0.0, 0.0, 0.0],\n",
       " 'aper_vx': [-1.0],\n",
       " 'aper_vy': [-1.0],\n",
       " 'slot_id': 249467,\n",
       " 'assembly_id': 102113,\n",
       " 'mech_sep': -0.194,\n",
       " 'v_pos': 0.0,\n",
       " 'model': -1,\n",
       " 'method': -1,\n",
       " 'exact': -1,\n",
       " 'nst': -1,\n",
       " 'fringe': 0,\n",
       " 'bend_fringe': False,\n",
       " 'kill_ent_fringe': False,\n",
       " 'kill_exi_fringe': False,\n",
       " 'dx': 0.0,\n",
       " 'dy': 0.0,\n",
       " 'ds': 0.0,\n",
       " 'dtheta': 0.0,\n",
       " 'dphi': 0.0,\n",
       " 'dpsi': 0.0,\n",
       " 'aper_tilt': 0.0,\n",
       " 'comments': ''}"
      ]
     },
     "execution_count": 58,
     "metadata": {},
     "output_type": "execute_result"
    }
   ],
   "source": [
    "m.e['mcbcv.5r1.b2']"
   ]
  },
  {
   "cell_type": "code",
   "execution_count": 46,
   "metadata": {},
   "outputs": [
    {
     "data": {
      "text/plain": [
       "(v['on_x14']*2.0)"
      ]
     },
     "execution_count": 46,
     "metadata": {},
     "output_type": "execute_result"
    }
   ],
   "source": [
    "m.madexpr('on_x1=on_x14*2')"
   ]
  },
  {
   "cell_type": "code",
   "execution_count": 60,
   "metadata": {},
   "outputs": [],
   "source": [
    "m.v.on_x1 = 160"
   ]
  },
  {
   "cell_type": "code",
   "execution_count": 65,
   "metadata": {},
   "outputs": [
    {
     "data": {
      "text/plain": [
       "int"
      ]
     },
     "execution_count": 65,
     "metadata": {},
     "output_type": "execute_result"
    }
   ],
   "source": [
    "type(m.v.on_x12)"
   ]
  },
  {
   "cell_type": "code",
   "execution_count": 66,
   "metadata": {},
   "outputs": [
    {
     "data": {
      "text/plain": [
       "0"
      ]
     },
     "execution_count": 66,
     "metadata": {},
     "output_type": "execute_result"
    }
   ],
   "source": [
    "m.v.on_y1"
   ]
  }
 ],
 "metadata": {
  "kernelspec": {
   "display_name": "py_BB",
   "language": "python",
   "name": "py_bb"
  },
  "language_info": {
   "codemirror_mode": {
    "name": "ipython",
    "version": 3
   },
   "file_extension": ".py",
   "mimetype": "text/x-python",
   "name": "python",
   "nbconvert_exporter": "python",
   "pygments_lexer": "ipython3",
   "version": "3.9.12"
  },
  "orig_nbformat": 4,
  "vscode": {
   "interpreter": {
    "hash": "403ef3b8c9293a8e87657562140a1a8a3ffb62b836513d091cdd3206517b9b77"
   }
  }
 },
 "nbformat": 4,
 "nbformat_minor": 2
}
